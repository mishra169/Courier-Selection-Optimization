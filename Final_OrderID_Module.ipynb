{
  "nbformat": 4,
  "nbformat_minor": 0,
  "metadata": {
    "colab": {
      "provenance": []
    },
    "kernelspec": {
      "name": "python3",
      "display_name": "Python 3"
    },
    "language_info": {
      "name": "python"
    }
  },
  "cells": [
    {
      "cell_type": "code",
      "source": [
        "!pip install pulp"
      ],
      "metadata": {
        "colab": {
          "base_uri": "https://localhost:8080/"
        },
        "collapsed": true,
        "id": "bXmyMqXI7iiq",
        "outputId": "0ceffd72-3fec-4042-f5de-867ad0884c2a"
      },
      "execution_count": null,
      "outputs": [
        {
          "output_type": "stream",
          "name": "stdout",
          "text": [
            "Collecting pulp\n",
            "  Downloading PuLP-2.9.0-py3-none-any.whl.metadata (5.4 kB)\n",
            "Downloading PuLP-2.9.0-py3-none-any.whl (17.7 MB)\n",
            "\u001b[2K   \u001b[90m━━━━━━━━━━━━━━━━━━━━━━━━━━━━━━━━━━━━━━━━\u001b[0m \u001b[32m17.7/17.7 MB\u001b[0m \u001b[31m51.6 MB/s\u001b[0m eta \u001b[36m0:00:00\u001b[0m\n",
            "\u001b[?25hInstalling collected packages: pulp\n",
            "Successfully installed pulp-2.9.0\n"
          ]
        }
      ]
    },
    {
      "cell_type": "code",
      "execution_count": null,
      "metadata": {
        "colab": {
          "base_uri": "https://localhost:8080/"
        },
        "id": "cdngE8Yb7TIv",
        "outputId": "d48d4181-31de-46fd-a31f-287c33c0dd48"
      },
      "outputs": [
        {
          "output_type": "stream",
          "name": "stdout",
          "text": [
            "Models trained successfully.\n"
          ]
        },
        {
          "output_type": "stream",
          "name": "stderr",
          "text": [
            "/usr/local/lib/python3.10/dist-packages/sklearn/preprocessing/_encoders.py:975: FutureWarning: `sparse` was renamed to `sparse_output` in version 1.2 and will be removed in 1.4. `sparse_output` is ignored unless you leave `sparse` to its default value.\n",
            "  warnings.warn(\n"
          ]
        }
      ],
      "source": [
        "import pandas as pd\n",
        "import numpy as np\n",
        "from sklearn.preprocessing import OneHotEncoder, StandardScaler\n",
        "from sklearn.tree import DecisionTreeRegressor\n",
        "from pulp import LpMinimize, LpProblem, LpVariable, lpSum\n",
        "\n",
        "# Function to read data from Excel\n",
        "def read_data(file_path):\n",
        "    df = pd.read_excel(file_path)\n",
        "    return df\n",
        "\n",
        "# Function to preprocess the data\n",
        "def preprocess_data(df):\n",
        "    # Encoding categorical variables\n",
        "    encoder = OneHotEncoder(sparse=False)\n",
        "    encoded_features = encoder.fit_transform(df[['courier', 'WH', 'order_destination']])\n",
        "    encoded_df = pd.DataFrame(encoded_features, columns=encoder.get_feature_names_out(['courier', 'WH', 'order_destination']))\n",
        "\n",
        "    # Normalizing numerical features\n",
        "    scaler = StandardScaler()\n",
        "    scaled_features = scaler.fit_transform(df[['TAT', 'charges']])\n",
        "    scaled_df = pd.DataFrame(scaled_features, columns=['TAT', 'charges'])\n",
        "\n",
        "    # Combining encoded and scaled features\n",
        "    final_df = pd.concat([encoded_df, scaled_df], axis=1)\n",
        "\n",
        "    return final_df, encoder, scaler\n",
        "\n",
        "# Read the dataset\n",
        "file_path = 'sample_orders_dataset.xlsx'\n",
        "df = read_data(file_path)\n",
        "final_df, encoder, scaler = preprocess_data(df)\n",
        "\n",
        "# Split features and target variables\n",
        "X = final_df.drop(columns=['TAT', 'charges'])\n",
        "y_tat = final_df['TAT']\n",
        "y_cost = final_df['charges']\n",
        "\n",
        "# Train ML models\n",
        "tat_model = DecisionTreeRegressor()\n",
        "tat_model.fit(X, y_tat)\n",
        "\n",
        "cost_model = DecisionTreeRegressor()\n",
        "cost_model.fit(X, y_cost)\n",
        "\n",
        "print(\"Models trained successfully.\")\n"
      ]
    },
    {
      "cell_type": "code",
      "source": [
        "def create_and_solve_optimization(order_id):\n",
        "    order_row = df[df['order_id'] == order_id].iloc[0]\n",
        "    selected_wh = order_row['WH']\n",
        "    selected_dest = order_row['order_destination']\n",
        "\n",
        "    filtered_df = df[(df['WH'] == selected_wh) & (df['order_destination'] == selected_dest)].reset_index(drop=True)\n",
        "\n",
        "    # Encode and scale the filtered data\n",
        "    encoded_features = encoder.transform(filtered_df[['courier', 'WH', 'order_destination']])\n",
        "    scaled_features = scaler.transform(filtered_df[['TAT', 'charges']])\n",
        "\n",
        "    filtered_final_df = pd.concat([pd.DataFrame(encoded_features, columns=encoder.get_feature_names_out(['courier', 'WH', 'order_destination'])),\n",
        "                                   pd.DataFrame(scaled_features, columns=['TAT', 'charges'])], axis=1)\n",
        "\n",
        "    # Drop target variables before prediction\n",
        "    filtered_final_df_for_prediction = filtered_final_df.drop(columns=['TAT', 'charges'])\n",
        "\n",
        "    orders = filtered_final_df.index.tolist()\n",
        "    couriers = filtered_df['courier'].unique().tolist()\n",
        "\n",
        "    # Predicted values\n",
        "    cost_pred = cost_model.predict(filtered_final_df_for_prediction) # Use the DataFrame without target variables\n",
        "    tat_pred = tat_model.predict(filtered_final_df_for_prediction) # Use the DataFrame without target variables\n",
        "\n",
        "    results = []\n",
        "    for i in orders:\n",
        "        courier = filtered_df.iloc[i]['courier']\n",
        "        courier_cost = cost_pred[i]\n",
        "        courier_tat = tat_pred[i]\n",
        "        results.append((courier, courier_cost, courier_tat))\n",
        "\n",
        "    # Sorting results based on the objective function (weighted sum of cost and TAT)\n",
        "    alpha = 0.5  # weight for cost\n",
        "    beta = 0.5   # weight for TAT\n",
        "    results.sort(key=lambda x: (alpha * x[1] + beta * x[2]))\n",
        "\n",
        "    # Ensure unique couriers\n",
        "    unique_results = {}\n",
        "    for courier, cost, tat in results:\n",
        "        if courier not in unique_results:\n",
        "            unique_results[courier] = (cost, tat)\n",
        "\n",
        "    sorted_unique_results = sorted(unique_results.items(), key=lambda x: (alpha * x[1][0] + beta * x[1][1]))\n",
        "\n",
        "    return sorted_unique_results"
      ],
      "metadata": {
        "id": "U6OCMzX1CI1n"
      },
      "execution_count": null,
      "outputs": []
    },
    {
      "cell_type": "code",
      "source": [
        "def select_best_carrier():\n",
        "    order_id = int(input(\"Enter Order ID: \"))\n",
        "\n",
        "    if order_id not in df['order_id'].values:\n",
        "        print(\"Invalid Order ID\")\n",
        "        return\n",
        "\n",
        "    results = create_and_solve_optimization(order_id)\n",
        "\n",
        "    if results:\n",
        "        print(f\"Ranked couriers for Order ID {order_id}:\")\n",
        "        for rank, (courier, (cost, tat)) in enumerate(results, start=1):\n",
        "            print(f\"Rank {rank}: Courier: {courier}, Cost: {cost:.2f}, TAT: {tat:.2f}\")\n",
        "    else:\n",
        "        print(f\"No suitable courier found for Order ID {order_id}\")\n",
        "\n",
        "select_best_carrier()"
      ],
      "metadata": {
        "colab": {
          "base_uri": "https://localhost:8080/"
        },
        "id": "l9MpcueTCNX7",
        "outputId": "35dd4aa2-3bfd-461c-9099-5dd59a172c95"
      },
      "execution_count": null,
      "outputs": [
        {
          "output_type": "stream",
          "name": "stdout",
          "text": [
            "Enter Order ID: 67\n",
            "Ranked couriers for Order ID 67:\n",
            "Rank 1: Courier: CourierC, Cost: -0.14, TAT: 0.06\n",
            "Rank 2: Courier: CourierB, Cost: 0.01, TAT: 0.02\n",
            "Rank 3: Courier: CourierA, Cost: 0.04, TAT: -0.00\n",
            "Rank 4: Courier: CourierD, Cost: 0.03, TAT: 0.04\n"
          ]
        }
      ]
    }
  ]
}
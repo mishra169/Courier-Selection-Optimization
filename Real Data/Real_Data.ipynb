{
  "nbformat": 4,
  "nbformat_minor": 0,
  "metadata": {
    "colab": {
      "provenance": []
    },
    "kernelspec": {
      "name": "python3",
      "display_name": "Python 3"
    },
    "language_info": {
      "name": "python"
    }
  },
  "cells": [
    {
      "cell_type": "code",
      "source": [
        "!pip install pulp"
      ],
      "metadata": {
        "colab": {
          "base_uri": "https://localhost:8080/"
        },
        "id": "8KqPnpOIF-Ci",
        "outputId": "d251ee1d-ed81-47e1-bdf3-9180b27b564c"
      },
      "execution_count": null,
      "outputs": [
        {
          "output_type": "stream",
          "name": "stdout",
          "text": [
            "Collecting pulp\n",
            "  Downloading PuLP-2.9.0-py3-none-any.whl.metadata (5.4 kB)\n",
            "Downloading PuLP-2.9.0-py3-none-any.whl (17.7 MB)\n",
            "\u001b[?25l   \u001b[90m━━━━━━━━━━━━━━━━━━━━━━━━━━━━━━━━━━━━━━━━\u001b[0m \u001b[32m0.0/17.7 MB\u001b[0m \u001b[31m?\u001b[0m eta \u001b[36m-:--:--\u001b[0m\r\u001b[2K   \u001b[91m━━━━━━━━━━━\u001b[0m\u001b[90m╺\u001b[0m\u001b[90m━━━━━━━━━━━━━━━━━━━━━━━━━━━━\u001b[0m \u001b[32m5.0/17.7 MB\u001b[0m \u001b[31m151.2 MB/s\u001b[0m eta \u001b[36m0:00:01\u001b[0m\r\u001b[2K   \u001b[91m━━━━━━━━━━━━━━━━━━━━━━━━\u001b[0m\u001b[91m╸\u001b[0m\u001b[90m━━━━━━━━━━━━━━━\u001b[0m \u001b[32m11.0/17.7 MB\u001b[0m \u001b[31m168.1 MB/s\u001b[0m eta \u001b[36m0:00:01\u001b[0m\r\u001b[2K   \u001b[91m━━━━━━━━━━━━━━━━━━━━━━━━━━━━━━━━━━━━━━━\u001b[0m\u001b[91m╸\u001b[0m \u001b[32m17.7/17.7 MB\u001b[0m \u001b[31m186.4 MB/s\u001b[0m eta \u001b[36m0:00:01\u001b[0m\r\u001b[2K   \u001b[91m━━━━━━━━━━━━━━━━━━━━━━━━━━━━━━━━━━━━━━━\u001b[0m\u001b[91m╸\u001b[0m \u001b[32m17.7/17.7 MB\u001b[0m \u001b[31m186.4 MB/s\u001b[0m eta \u001b[36m0:00:01\u001b[0m\r\u001b[2K   \u001b[90m━━━━━━━━━━━━━━━━━━━━━━━━━━━━━━━━━━━━━━━━\u001b[0m \u001b[32m17.7/17.7 MB\u001b[0m \u001b[31m81.8 MB/s\u001b[0m eta \u001b[36m0:00:00\u001b[0m\n",
            "\u001b[?25hInstalling collected packages: pulp\n",
            "Successfully installed pulp-2.9.0\n"
          ]
        }
      ]
    },
    {
      "cell_type": "code",
      "execution_count": null,
      "metadata": {
        "colab": {
          "base_uri": "https://localhost:8080/"
        },
        "id": "trsX2Sg_AGGN",
        "outputId": "ac69a733-b820-4e8d-809a-d9f5386a2341"
      },
      "outputs": [
        {
          "output_type": "stream",
          "name": "stdout",
          "text": [
            "['Clean Data Del']\n",
            "    SourceWH Order Date  Ship Date    Mode  Ext Transporter  Customer Zip  \\\n",
            "0  Bangalore 2024-04-09 2024-04-11  Surface       Delhivery        600053   \n",
            "1  Bangalore 2024-04-25 2024-04-29  Surface       Delhivery        410201   \n",
            "2  Bangalore 2024-05-10 2024-05-10  Surface      Xpressbees        624001   \n",
            "3  Bangalore 2024-06-08 2024-06-10  Surface       Delhivery        505302   \n",
            "4  Bangalore 2024-06-22 2024-06-24      Air       Delhivery        587311   \n",
            "\n",
            "         State  Weight  Length  Breadth  Height     lbh First attempt Date  \\\n",
            "0   Tamil Nadu  5674.0    34.0     14.0    14.0  1.3328         2024-04-17   \n",
            "1  Maharashtra  3354.4    22.0     11.0     9.0  0.4356         2024-05-02   \n",
            "2   Tamil Nadu  3030.4    26.0     21.0    16.0  1.7472         2024-05-13   \n",
            "3    Telangana  1330.0    40.0     32.0    14.0  3.5840         2024-06-13   \n",
            "4    Karnataka   885.0    25.0     15.0    12.0  0.9000         2024-06-27   \n",
            "\n",
            "  Delivery Date  No of Attempt FA TAT Map  PRICE  \n",
            "0    2024-04-17              1      6   D  184.0  \n",
            "1    2024-05-02              1      3   C  140.0  \n",
            "2    2024-05-13              1      3   D  160.0  \n",
            "3    2024-06-13              1      3   D   92.0  \n",
            "4    2024-06-27              1      3   A   43.0  \n"
          ]
        }
      ],
      "source": [
        "import pandas as pd\n",
        "\n",
        "# Load the Excel file\n",
        "file_path = '/content/Book1.xlsx'\n",
        "excel_data = pd.ExcelFile(file_path)\n",
        "\n",
        "sheet_names = excel_data.sheet_names\n",
        "print(sheet_names)\n",
        "\n",
        "df = excel_data.parse(sheet_names[0])\n",
        "print(df.head())\n"
      ]
    },
    {
      "cell_type": "code",
      "source": [
        "print(df.info())\n",
        "print(df.describe())\n",
        "\n",
        "df = df.dropna()\n",
        "df['Weight'] = df['Weight'].astype(float)\n",
        "df['PRICE'] = df['PRICE'].astype(float)\n",
        "\n",
        "df['FA TAT'] = df['FA TAT'].str.replace('+', '').astype(float)  # Remove '+' and convert to int\n",
        "\n",
        "df['lbh'] = df['lbh'].astype(str)\n",
        "\n"
      ],
      "metadata": {
        "colab": {
          "base_uri": "https://localhost:8080/"
        },
        "id": "YEUOMXUUBdqx",
        "outputId": "cd78d611-f3bd-4ba5-b3d3-a9c25f85efa6"
      },
      "execution_count": null,
      "outputs": [
        {
          "output_type": "stream",
          "name": "stdout",
          "text": [
            "<class 'pandas.core.frame.DataFrame'>\n",
            "RangeIndex: 187548 entries, 0 to 187547\n",
            "Data columns (total 18 columns):\n",
            " #   Column              Non-Null Count   Dtype         \n",
            "---  ------              --------------   -----         \n",
            " 0   SourceWH            187548 non-null  object        \n",
            " 1   Order Date          187548 non-null  datetime64[ns]\n",
            " 2   Ship Date           187548 non-null  datetime64[ns]\n",
            " 3   Mode                187548 non-null  object        \n",
            " 4   Ext Transporter     187548 non-null  object        \n",
            " 5   Customer Zip        187548 non-null  int64         \n",
            " 6   State               187548 non-null  object        \n",
            " 7   Weight              187548 non-null  float64       \n",
            " 8   Length              187548 non-null  float64       \n",
            " 9   Breadth             187548 non-null  float64       \n",
            " 10  Height              187548 non-null  float64       \n",
            " 11  lbh                 187548 non-null  float64       \n",
            " 12  First attempt Date  187548 non-null  datetime64[ns]\n",
            " 13  Delivery Date       187548 non-null  datetime64[ns]\n",
            " 14  No of Attempt       187548 non-null  int64         \n",
            " 15  FA TAT              187548 non-null  object        \n",
            " 16  Map                 187548 non-null  object        \n",
            " 17  PRICE               187548 non-null  float64       \n",
            "dtypes: datetime64[ns](4), float64(6), int64(2), object(6)\n",
            "memory usage: 25.8+ MB\n",
            "None\n",
            "                          Order Date                      Ship Date  \\\n",
            "count                         187548                         187548   \n",
            "mean   2024-05-31 09:40:52.440975104  2024-06-02 17:34:13.029624576   \n",
            "min              2024-02-06 00:00:00            2024-04-01 00:00:00   \n",
            "25%              2024-05-03 00:00:00            2024-05-05 00:00:00   \n",
            "50%              2024-06-01 00:00:00            2024-06-06 00:00:00   \n",
            "75%              2024-07-01 00:00:00            2024-07-03 00:00:00   \n",
            "max              2024-07-28 00:00:00            2024-07-28 00:00:00   \n",
            "std                              NaN                            NaN   \n",
            "\n",
            "        Customer Zip         Weight         Length        Breadth  \\\n",
            "count  187548.000000  187548.000000  187548.000000  187548.000000   \n",
            "mean   511100.393707       1.819809      27.797562      18.773576   \n",
            "min    110001.000000       0.000000       3.000000       0.300000   \n",
            "25%    396375.000000       0.236000      22.000000      11.000000   \n",
            "50%    530013.000000       0.666000      26.000000      15.000000   \n",
            "75%    680541.000000       2.096250      34.000000      25.000000   \n",
            "max    855117.000000    5674.000000     252.000000     323.000000   \n",
            "std    204833.282370      18.095063       9.147676       7.732390   \n",
            "\n",
            "              Height            lbh             First attempt Date  \\\n",
            "count  187548.000000  187548.000000                         187548   \n",
            "mean       15.297191       2.176300  2024-06-06 07:03:32.604773120   \n",
            "min         1.000000       0.003740            2024-04-02 00:00:00   \n",
            "25%        10.000000       0.435600            2024-05-09 00:00:00   \n",
            "50%        14.000000       1.332800            2024-06-09 00:00:00   \n",
            "75%        22.000000       2.758800            2024-07-06 00:00:00   \n",
            "max      1250.000000     741.235200            2024-07-30 00:00:00   \n",
            "std         8.874932       4.730689                            NaN   \n",
            "\n",
            "                       Delivery Date  No of Attempt          PRICE  \n",
            "count                         187548  187548.000000  187548.000000  \n",
            "mean   2024-06-06 10:57:03.789109760       1.113038      36.672373  \n",
            "min              2024-04-02 00:00:00       0.000000      12.000000  \n",
            "25%              2024-05-09 00:00:00       1.000000      35.000000  \n",
            "50%              2024-06-10 00:00:00       1.000000      35.000000  \n",
            "75%              2024-07-06 00:00:00       1.000000      40.170000  \n",
            "max              2024-07-30 00:00:00      13.000000     184.000000  \n",
            "std                              NaN       0.443984       6.644066  \n"
          ]
        }
      ]
    },
    {
      "cell_type": "code",
      "source": [
        "from sklearn.model_selection import train_test_split\n",
        "from sklearn.linear_model import LinearRegression\n",
        "from sklearn.preprocessing import OneHotEncoder\n",
        "\n",
        "# Define features and target variables\n",
        "features = ['SourceWH', 'State', 'Ext Transporter', 'Weight', 'Length', 'Breadth', 'Height']\n",
        "X = df[features]\n",
        "y_price = df['PRICE']\n",
        "\n",
        "# Convert 'FA TAT' to datetime objects if they are not already, handling errors\n",
        "df['FA TAT'] = pd.to_datetime(df['FA TAT'], errors='coerce')\n",
        "\n",
        "# Calculate minimum TAT for subtraction (after handling potential NaTs)\n",
        "min_tat = df['FA TAT'].min()  # Find the minimum TAT value first\n",
        "y_tat = df['FA TAT'].apply(lambda x: (x - min_tat).days if pd.notnull(x) else None)  # Handle NaTs\n",
        "\n",
        "# Handle categorical features (One-Hot Encoding for 'State', 'SourceWH', and 'Ext Transporter')\n",
        "ohe = OneHotEncoder(handle_unknown='ignore')  # 'ignore' to handle new categories in test data\n",
        "X_encoded = ohe.fit_transform(X[['State', 'SourceWH', 'Ext Transporter']]) # Include 'Ext Transporter' in encoding\n",
        "\n",
        "# Convert sparse matrix to DataFrame for easier handling\n",
        "X_encoded_df = pd.DataFrame.sparse.from_spmatrix(X_encoded)\n",
        "# Get feature names for one-hot encoded columns\n",
        "X_encoded_df.columns = ohe.get_feature_names_out(['State', 'SourceWH', 'Ext Transporter']) # Update feature names\n",
        "\n",
        "X_other = X.drop(['State', 'SourceWH', 'Ext Transporter'], axis=1) # Drop encoded columns, no need to reset index\n",
        "X_final = pd.concat([X_other, X_encoded_df], axis=1)  # Combine encoded and other features\n",
        "\n",
        "# Align y_price with X_final after handling NaNs in y_tat\n",
        "y_price = y_price[y_tat.notna()] # Subset y_price to match rows in X_final\n",
        "\n",
        "# Drop rows with NaN in y_tat *after* creating X_final to ensure alignment\n",
        "X_final = X_final[y_tat.notna()]\n",
        "y_tat = y_tat[y_tat.notna()]\n",
        "\n",
        "# Split the data (using the encoded features)\n",
        "X_train, X_test, y_train_price, y_test_price = train_test_split(X_final, y_price, test_size=0.2, random_state=42)\n",
        "X_train, X_test, y_train_tat, y_test_tat = train_test_split(X_final, y_tat, test_size=0.2, random_state=42)\n",
        "\n",
        "# Train the models\n",
        "price_model = LinearRegression().fit(X_train, y_train_price)\n",
        "tat_model = LinearRegression().fit(X_train, y_train_tat)\n",
        "\n",
        "# Make predictions\n",
        "price_predictions = price_model.predict(X_test)\n",
        "tat_predictions = tat_model.predict(X_test)\n",
        "\n",
        "# Create a new DataFrame for predictions to avoid length mismatch\n",
        "predictions_df = pd.DataFrame({\n",
        "    'price_predictions': price_predictions,\n",
        "    'tat_predictions': tat_predictions\n",
        "}, index=X_test.index)  # Use the index of X_test\n",
        "\n",
        "# Optionally, you can merge these predictions back into your original DataFrame 'df'\n",
        "df = df.merge(predictions_df, how='left', left_index=True, right_index=True)\n",
        "\n",
        "print(price_predictions)\n",
        "print(tat_predictions)"
      ],
      "metadata": {
        "colab": {
          "base_uri": "https://localhost:8080/"
        },
        "id": "_CQrdYrTCvjg",
        "outputId": "cf47be35-76f2-4a02-97cf-a3d537e32d94"
      },
      "execution_count": null,
      "outputs": [
        {
          "output_type": "stream",
          "name": "stderr",
          "text": [
            "/usr/local/lib/python3.10/dist-packages/sklearn/utils/validation.py:785: UserWarning: pandas.DataFrame with sparse columns found.It will be converted to a dense numpy array.\n",
            "  warnings.warn(\n",
            "/usr/local/lib/python3.10/dist-packages/sklearn/utils/validation.py:785: UserWarning: pandas.DataFrame with sparse columns found.It will be converted to a dense numpy array.\n",
            "  warnings.warn(\n",
            "/usr/local/lib/python3.10/dist-packages/sklearn/utils/validation.py:785: UserWarning: pandas.DataFrame with sparse columns found.It will be converted to a dense numpy array.\n",
            "  warnings.warn(\n",
            "/usr/local/lib/python3.10/dist-packages/sklearn/utils/validation.py:785: UserWarning: pandas.DataFrame with sparse columns found.It will be converted to a dense numpy array.\n",
            "  warnings.warn(\n"
          ]
        },
        {
          "output_type": "stream",
          "name": "stdout",
          "text": [
            "[45.82130374 35.64758559 29.5131939  ... 35.50547852 37.02898764\n",
            " 44.1714536 ]\n",
            "[0. 0. 0. ... 0. 0. 0.]\n"
          ]
        }
      ]
    },
    {
      "cell_type": "code",
      "source": [
        "from pulp import LpMinimize, LpProblem, LpVariable, lpSum\n",
        "\n",
        "# Define a function to optimize and select the best courier\n",
        "def optimize_courier(df, SourceWH, state):\n",
        "\n",
        "    # Filter the data for the given warehouse and state\n",
        "    filtered_df = df[(df['SourceWH'] == SourceWH) & (df['State'] == state)]\n",
        "\n",
        "    # Handle potential NaN values in predictions\n",
        "    filtered_df.fillna({'price_predictions': 0, 'tat_predictions': 0}, inplace=True)\n",
        "\n",
        "    # Initialize the optimization problem\n",
        "    model = LpProblem(name=\"courier-selection\", sense=LpMinimize)\n",
        "\n",
        "    # Create decision variables for each courier\n",
        "    couriers = filtered_df['Ext Transporter'].unique()\n",
        "    dec_vars = LpVariable.dicts(\"Ext Transporter\", couriers, lowBound=0, cat='Binary')\n",
        "\n",
        "    # Define the objective function: Minimize the sum of predicted price and TAT\n",
        "    objective = lpSum([\n",
        "        (filtered_df.loc[filtered_df['Ext Transporter'] == courier, 'price_predictions'].values[0] +\n",
        "         filtered_df.loc[filtered_df['Ext Transporter'] == courier, 'tat_predictions'].values[0]) * dec_vars[courier]\n",
        "        for courier in couriers\n",
        "    ])\n",
        "    model += objective\n",
        "\n",
        "    # Add constraints: ensure only one courier is selected\n",
        "    model += lpSum([dec_vars[courier] for courier in couriers]) == 1\n",
        "\n",
        "    # Solve the problem\n",
        "    status = model.solve() # Capture the status of the solver\n",
        "\n",
        "    if status == 1: # 1 indicates an optimal solution was found\n",
        "        best_courier = [v.name.replace(\"Ext Transporter_\", \"\") for v in model.variables() if v.varValue is not None and v.varValue > 0]\n",
        "        if best_courier:\n",
        "            best_courier = best_courier[0]\n",
        "        else:\n",
        "            best_courier = \"No feasible solution for any courier\"\n",
        "    else:\n",
        "        best_courier = \"No solution found\" # Handle cases where no solution is found\n",
        "\n",
        "    return best_courier"
      ],
      "metadata": {
        "id": "8HgUCBdKF7Hj"
      },
      "execution_count": null,
      "outputs": []
    },
    {
      "cell_type": "code",
      "source": [
        "def get_best_courier(SourceWH, state):\n",
        "    best_courier = optimize_courier(df, SourceWH, state)\n",
        "    return best_courier\n",
        "\n",
        "# Example usage\n",
        "warehouse = 'Delhi/Gurgaon'  # Replace with actual warehouse\n",
        "state = 'Madhya Pradesh'          # Replace with actual state\n",
        "\n",
        "best_courier = get_best_courier(warehouse, state)\n",
        "print(f\"The best courier for {warehouse} to {state} is: {best_courier}\")\n"
      ],
      "metadata": {
        "colab": {
          "base_uri": "https://localhost:8080/"
        },
        "id": "Hyhhkk8xGEeT",
        "outputId": "b96f92a5-180b-443e-b0b4-44c9e7244bfe"
      },
      "execution_count": null,
      "outputs": [
        {
          "output_type": "stream",
          "name": "stdout",
          "text": [
            "The best courier for Delhi/Gurgaon to Madhya Pradesh is: Ext_Transporter_Xpressbees\n"
          ]
        },
        {
          "output_type": "stream",
          "name": "stderr",
          "text": [
            "<ipython-input-6-37bc9adf1ed9>:10: SettingWithCopyWarning: \n",
            "A value is trying to be set on a copy of a slice from a DataFrame\n",
            "\n",
            "See the caveats in the documentation: https://pandas.pydata.org/pandas-docs/stable/user_guide/indexing.html#returning-a-view-versus-a-copy\n",
            "  filtered_df.fillna({'price_predictions': 0, 'tat_predictions': 0}, inplace=True)\n"
          ]
        }
      ]
    }
  ]
}